{
 "cells": [
  {
   "cell_type": "code",
   "execution_count": 8,
   "metadata": {},
   "outputs": [],
   "source": [
    "from pgmf import writePGM, readPGM\n",
    "from imgmgmt import flatten\n",
    "from pointop import contrastStretching"
   ]
  },
  {
   "cell_type": "code",
   "execution_count": 9,
   "metadata": {},
   "outputs": [],
   "source": [
    "file = open('/home/akaifox/_workspace/DIP/2/Cameraman.pgm', 'rb')\n",
    "_, cameraman = readPGM(file)\n",
    "\n",
    "file = open('/home/akaifox/_workspace/DIP/2/SEM256_256.pgm', 'rb')\n",
    "depth, sem = readPGM(file)"
   ]
  },
  {
   "cell_type": "code",
   "execution_count": 10,
   "metadata": {},
   "outputs": [],
   "source": [
    "w, h = contrastStretching(cameraman)\n",
    "\n",
    "file = open('/home/akaifox/_workspace/DIP/2/NewCameraman.pgm', 'wb')\n",
    "writePGM(file, w, h, depth, flatten(cameraman))\n"
   ]
  },
  {
   "cell_type": "code",
   "execution_count": 11,
   "metadata": {},
   "outputs": [],
   "source": [
    "w , h = contrastStretching(sem)\n",
    "\n",
    "file = open('/home/akaifox/_workspace/DIP/2/NewSEM256_256.pgm', 'wb')\n",
    "writePGM(file, w, h, depth, flatten(sem))"
   ]
  },
  {
   "cell_type": "code",
   "execution_count": null,
   "metadata": {},
   "outputs": [],
   "source": []
  }
 ],
 "metadata": {
  "interpreter": {
   "hash": "916dbcbb3f70747c44a77c7bcd40155683ae19c65e1c03b4aa3499c5328201f1"
  },
  "kernelspec": {
   "display_name": "Python 3.9.7 64-bit",
   "language": "python",
   "name": "python3"
  },
  "language_info": {
   "codemirror_mode": {
    "name": "ipython",
    "version": 3
   },
   "file_extension": ".py",
   "mimetype": "text/x-python",
   "name": "python",
   "nbconvert_exporter": "python",
   "pygments_lexer": "ipython3",
   "version": "3.9.7"
  },
  "orig_nbformat": 4
 },
 "nbformat": 4,
 "nbformat_minor": 2
}

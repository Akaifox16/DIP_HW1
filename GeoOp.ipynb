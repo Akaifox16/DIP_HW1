{
 "cells": [
  {
   "cell_type": "code",
   "execution_count": 11,
   "metadata": {},
   "outputs": [],
   "source": [
    "from pgmf import readPGM, writePGM\n",
    "from imgmgmt import flatten\n",
    "from geoop import fillImage"
   ]
  },
  {
   "cell_type": "code",
   "execution_count": 12,
   "metadata": {},
   "outputs": [],
   "source": [
    "file = open('/home/akaifox/_workspace/DIP/4/distlenna.pgm', 'rb')\n",
    "depth, distlenna = readPGM(file)\n",
    "file = open('/home/akaifox/_workspace/DIP/4/distgrid.pgm', 'rb')\n",
    "_, distgrid = readPGM(file)"
   ]
  },
  {
   "cell_type": "code",
   "execution_count": 13,
   "metadata": {},
   "outputs": [],
   "source": [
    "w = len(distlenna[0])\n",
    "h = len(distlenna)"
   ]
  },
  {
   "cell_type": "code",
   "execution_count": 14,
   "metadata": {},
   "outputs": [],
   "source": [
    "output = [[0 for _ in range(w)] for _ in range(h)]\n",
    "fillImage(distlenna, output)"
   ]
  },
  {
   "cell_type": "code",
   "execution_count": null,
   "metadata": {},
   "outputs": [],
   "source": [
    "file = open('/home/akaifox/_workspace/DIP/4/lenna.pgm', 'wb')\n",
    "writePGM(file, w ,h, depth, flatten(output))"
   ]
  },
  {
   "cell_type": "code",
   "execution_count": 15,
   "metadata": {},
   "outputs": [],
   "source": [
    "output = [[0 for _ in range(w)] for _ in range(h)]\n",
    "fillImage(distgrid, output)"
   ]
  },
  {
   "cell_type": "code",
   "execution_count": 10,
   "metadata": {},
   "outputs": [],
   "source": [
    "file = open('/home/akaifox/_workspace/DIP/4/grid(new).pgm', 'wb')\n",
    "writePGM(file, w ,h, depth, flatten(output))"
   ]
  },
  {
   "cell_type": "code",
   "execution_count": null,
   "metadata": {},
   "outputs": [],
   "source": []
  }
 ],
 "metadata": {
  "interpreter": {
   "hash": "e7370f93d1d0cde622a1f8e1c04877d8463912d04d973331ad4851f04de6915a"
  },
  "kernelspec": {
   "display_name": "Python 3.10.0 64-bit",
   "language": "python",
   "name": "python3"
  },
  "language_info": {
   "codemirror_mode": {
    "name": "ipython",
    "version": 3
   },
   "file_extension": ".py",
   "mimetype": "text/x-python",
   "name": "python",
   "nbconvert_exporter": "python",
   "pygments_lexer": "ipython3",
   "version": "3.9.7"
  },
  "orig_nbformat": 4
 },
 "nbformat": 4,
 "nbformat_minor": 2
}

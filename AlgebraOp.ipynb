{
 "cells": [
  {
   "cell_type": "code",
   "execution_count": 1,
   "metadata": {},
   "outputs": [],
   "source": [
    "from pgmf import readPGM, writePGM\n",
    "from pointop import avgRGB, diffRB, excessG"
   ]
  },
  {
   "cell_type": "code",
   "execution_count": 2,
   "metadata": {},
   "outputs": [],
   "source": [
    "file = open('/home/akaifox/_workspace/DIP/3/SanFranPeak_red.pgm', 'rb')\n",
    "_, r = readPGM(file)\n",
    "\n",
    "file = open('/home/akaifox/_workspace/DIP/3/SanFranPeak_green.pgm', 'rb')\n",
    "_, g = readPGM(file)\n",
    "\n",
    "file = open('/home/akaifox/_workspace/DIP/3/SanFranPeak_blue.pgm', 'rb')\n",
    "depth, b = readPGM(file)"
   ]
  },
  {
   "cell_type": "code",
   "execution_count": 3,
   "metadata": {},
   "outputs": [],
   "source": [
    "w = len(b[0])\n",
    "h = len(b)"
   ]
  },
  {
   "cell_type": "code",
   "execution_count": 4,
   "metadata": {},
   "outputs": [],
   "source": [
    "avg = avgRGB(r,g,b,[w,h])"
   ]
  },
  {
   "cell_type": "code",
   "execution_count": 5,
   "metadata": {},
   "outputs": [
    {
     "name": "stdout",
     "output_type": "stream",
     "text": [
      "255 7\n"
     ]
    }
   ],
   "source": [
    "print(max(avg), min(avg))\n",
    "pgm = open('/home/akaifox/_workspace/DIP/3/avg.pgm','wb')\n",
    "writePGM(pgm, w, h, depth, avg)"
   ]
  },
  {
   "cell_type": "code",
   "execution_count": 6,
   "metadata": {},
   "outputs": [],
   "source": [
    "drb = diffRB(r,b,[w,h])"
   ]
  },
  {
   "cell_type": "code",
   "execution_count": 7,
   "metadata": {},
   "outputs": [
    {
     "name": "stdout",
     "output_type": "stream",
     "text": [
      "75 0\n"
     ]
    }
   ],
   "source": [
    "print(max(drb), min(drb))\n",
    "pgm = open('/home/akaifox/_workspace/DIP/3/drb.pgm','wb')\n",
    "writePGM(pgm, w, h, depth, drb)"
   ]
  },
  {
   "cell_type": "code",
   "execution_count": 8,
   "metadata": {},
   "outputs": [],
   "source": [
    "xG = excessG(r,g,b,[w,h])"
   ]
  },
  {
   "cell_type": "code",
   "execution_count": 9,
   "metadata": {},
   "outputs": [
    {
     "name": "stdout",
     "output_type": "stream",
     "text": [
      "61 0\n"
     ]
    }
   ],
   "source": [
    "print(max(xG), min(xG))\n",
    "pgm = open('/home/akaifox/_workspace/DIP/3/xG.pgm','wb')\n",
    "writePGM(pgm, w, h, depth, xG)"
   ]
  }
 ],
 "metadata": {
  "interpreter": {
   "hash": "e7370f93d1d0cde622a1f8e1c04877d8463912d04d973331ad4851f04de6915a"
  },
  "kernelspec": {
   "display_name": "Python 3.10.0 64-bit",
   "language": "python",
   "name": "python3"
  },
  "language_info": {
   "codemirror_mode": {
    "name": "ipython",
    "version": 3
   },
   "file_extension": ".py",
   "mimetype": "text/x-python",
   "name": "python",
   "nbconvert_exporter": "python",
   "pygments_lexer": "ipython3",
   "version": "3.10.0"
  },
  "orig_nbformat": 4
 },
 "nbformat": 4,
 "nbformat_minor": 2
}
